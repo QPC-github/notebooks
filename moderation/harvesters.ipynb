{
 "cells": [
  {
   "cell_type": "code",
   "execution_count": null,
   "id": "c7cb551c",
   "metadata": {},
   "outputs": [],
   "source": [
    "import os\n",
    "from pathlib import Path"
   ]
  },
  {
   "cell_type": "code",
   "execution_count": null,
   "id": "0ed2aaf4",
   "metadata": {},
   "outputs": [],
   "source": [
    "DOMAIN = 'www.data.gouv.fr'\n",
    "PAGE_SIZE = 100\n",
    "current_path = Path(os.getenv('WORKING_DIR')) if os.getenv('WORKING_DIR') else Path().absolute()\n",
    "fn_path = '%s' % (current_path / 'moderation_fn.ipynb')\n",
    "%run $fn_path\n",
    "# we want everything that happened since this date\n",
    "start_date = datetime(1970, 1, 1)\n",
    "start_date"
   ]
  },
  {
   "cell_type": "code",
   "execution_count": null,
   "id": "1dca54c4",
   "metadata": {},
   "outputs": [],
   "source": [
    "harvesters = get_last_items('harvest/sources')\n",
    "pending = [h for h in harvesters if h['validation']['state'] == 'pending']"
   ]
  },
  {
   "cell_type": "code",
   "execution_count": null,
   "id": "ae83cde8",
   "metadata": {},
   "outputs": [],
   "source": [
    "def show_harvesters(harvesters):\n",
    "    for h in harvesters:\n",
    "        txt = \"\"\n",
    "        if not h['organization'] and not h['owner']:\n",
    "            owner = '- orphan -'\n",
    "            owner_url = '#'\n",
    "        else:\n",
    "            owner = h['organization']['name'] if h['organization'] else fullname(h['owner'])\n",
    "            owner_url = h['organization']['page'] if h['organization'] else h['owner']['page']\n",
    "        url = f'https://{DOMAIN}/fr/admin/harvester/{h[\"id\"]}'\n",
    "        \n",
    "        txt += f\":ear_of_rice: <{url}|{h['name']}>\"\n",
    "        txt += ' par '\n",
    "        txt += f\"<{owner_url}|{owner}>\"\n",
    "        txt += f\"\\n• Description: {h['description']}\"\n",
    "        txt += f\"\\n• Type: `{h['backend']}`\"\n",
    "        txt += f\"\\n• Created: `{h['created_at']}`\"\n",
    "        txt += f\"\\n• Url: <{h['url']}>\"\n",
    "        txt += f\"\\n• Filters: `{h['config'].get('filters')}`\"\n",
    "        \n",
    "        yield txt"
   ]
  },
  {
   "cell_type": "code",
   "execution_count": null,
   "id": "1bb6d8cd",
   "metadata": {},
   "outputs": [],
   "source": [
    "txt = show_harvesters(pending)"
   ]
  },
  {
   "cell_type": "code",
   "execution_count": null,
   "id": "820e1d95",
   "metadata": {},
   "outputs": [],
   "source": [
    "url = os.environ['NB_SLACK_WEBHOOK_URL_HARVEST']\n",
    "\n",
    "def send_message(message):\n",
    "    send_to_slack({'text': message})\n",
    "                       \n",
    "def send_to_slack(the_json):\n",
    "    requests.post(url, json=the_json)"
   ]
  },
  {
   "cell_type": "code",
   "execution_count": null,
   "id": "76fff212",
   "metadata": {},
   "outputs": [],
   "source": [
    "if len(pending):\n",
    "    send_to_slack({'text': f\":tractor: *%s moissonneurs en attente* :arrow_down:\" % len(pending)})\n",
    "    for message in show_harvesters(pending):\n",
    "        send_message(message)"
   ]
  },
  {
   "cell_type": "code",
   "execution_count": null,
   "id": "f4f79a7b",
   "metadata": {},
   "outputs": [],
   "source": []
  },
  {
   "cell_type": "code",
   "execution_count": null,
   "id": "86afdd08",
   "metadata": {},
   "outputs": [],
   "source": []
  }
 ],
 "metadata": {
  "kernelspec": {
   "display_name": "Python 3",
   "language": "python",
   "name": "python3"
  },
  "language_info": {
   "codemirror_mode": {
    "name": "ipython",
    "version": 3
   },
   "file_extension": ".py",
   "mimetype": "text/x-python",
   "name": "python",
   "nbconvert_exporter": "python",
   "pygments_lexer": "ipython3",
   "version": "3.8.6"
  }
 },
 "nbformat": 4,
 "nbformat_minor": 5
}
