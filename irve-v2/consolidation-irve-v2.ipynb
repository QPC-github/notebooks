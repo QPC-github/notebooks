{
 "cells": [
  {
   "cell_type": "code",
   "execution_count": 4,
   "id": "smoking-flashing",
   "metadata": {},
   "outputs": [],
   "source": [
    "import os\n",
    "import pandas as pd\n",
    "import requests\n",
    "import json\n",
    "from pathlib import Path\n",
    "from datetime import datetime\n",
    "import time\n",
    "import chardet"
   ]
  },
  {
   "cell_type": "code",
   "execution_count": 5,
   "id": "utility-victoria",
   "metadata": {},
   "outputs": [
    {
     "data": {
      "text/plain": [
       "PosixPath('/Users/geoffreyaldebert/etalab/projects/analysis/irve-analysis')"
      ]
     },
     "execution_count": 5,
     "metadata": {},
     "output_type": "execute_result"
    }
   ],
   "source": [
    "current_path = Path(os.getenv('WORKING_DIR')) if os.getenv('WORKING_DIR') else Path().absolute()\n",
    "current_path"
   ]
  },
  {
   "cell_type": "code",
   "execution_count": 6,
   "id": "structural-purpose",
   "metadata": {},
   "outputs": [],
   "source": [
    "own_datasets = ['54231d4a88ee38334b5b9e1d', '5448d3e0c751df01f85d0572']\n",
    "def parse_api(url):\n",
    "    r = requests.get(url)\n",
    "    data = r.json()\n",
    "    nb_pages = int(data['total']/data['page_size'])+1\n",
    "    arr = []\n",
    "    for i in range(1,nb_pages+1):\n",
    "        r = requests.get(url+\"&page=\"+str(i))\n",
    "        data = r.json()\n",
    "        for dataset in data['data']:\n",
    "            for res in dataset['resources']:\n",
    "                if dataset['id'] not in own_datasets: #dataset Etalab\n",
    "                    if 'format=csv' in res['url']:\n",
    "                        filename = res['url'].split('/')[-3] + '.csv'\n",
    "                    else:\n",
    "                        filename = res['url'].split('/')[-1]\n",
    "                    ext = filename.split('.')[-1]\n",
    "                    obj = {}\n",
    "                    obj['dataset_id'] = dataset['id']\n",
    "                    obj['dataset_slug'] = dataset['slug']\n",
    "                    obj['dataset_page'] = dataset['page']\n",
    "                    obj['resource_id'] = res['id']\n",
    "                    obj['resource_title'] = res['title']\n",
    "                    obj['resource_last_modified'] = res['last_modified']\n",
    "                    if ext != 'csv':\n",
    "                        obj['error_type'] = \"wrong-file-format\"\n",
    "                    else:\n",
    "                        if not dataset['organization'] and not dataset['owner']:\n",
    "                            obj['error_type'] = \"orphan-dataset\"\n",
    "                        else:\n",
    "                            obj['organization_or_owner'] = dataset['organization']['slug'] if dataset['organization'] else dataset['owner']['slug']\n",
    "                            obj['error_type'] = None\n",
    "                    arr.append(obj)\n",
    "    df = pd.DataFrame(arr)\n",
    "    return df"
   ]
  },
  {
   "cell_type": "markdown",
   "id": "incorporate-blast",
   "metadata": {},
   "source": [
    "## Récupération via tags"
   ]
  },
  {
   "cell_type": "code",
   "execution_count": 7,
   "id": "younger-potato",
   "metadata": {},
   "outputs": [],
   "source": [
    "url = \"https://www.data.gouv.fr/api/1/datasets/?tag=irve\""
   ]
  },
  {
   "cell_type": "code",
   "execution_count": 8,
   "id": "unnecessary-uganda",
   "metadata": {},
   "outputs": [],
   "source": [
    "df = parse_api(url)"
   ]
  },
  {
   "cell_type": "markdown",
   "id": "gothic-control",
   "metadata": {},
   "source": [
    "## Récupération via metadata schema"
   ]
  },
  {
   "cell_type": "code",
   "execution_count": 9,
   "id": "funny-egypt",
   "metadata": {},
   "outputs": [],
   "source": [
    "url = \"https://www.data.gouv.fr/api/1/datasets/?schema=etalab/schema-irve\""
   ]
  },
  {
   "cell_type": "code",
   "execution_count": 10,
   "id": "computational-amino",
   "metadata": {},
   "outputs": [],
   "source": [
    "df2 = parse_api(url)"
   ]
  },
  {
   "cell_type": "markdown",
   "id": "eastern-national",
   "metadata": {},
   "source": [
    "## Récupération via search"
   ]
  },
  {
   "cell_type": "code",
   "execution_count": 11,
   "id": "timely-might",
   "metadata": {},
   "outputs": [],
   "source": [
    "url = \"https://www.data.gouv.fr/api/1/datasets/?q=recharge+v%C3%A9hicules+%C3%A9lectriques\"\n",
    "df3 = parse_api(url)\n",
    "url = \"https://www.data.gouv.fr/api/1/datasets/?q=irve\"\n",
    "df4 = parse_api(url)"
   ]
  },
  {
   "cell_type": "markdown",
   "id": "present-insert",
   "metadata": {},
   "source": [
    "## Concaténation et dédoublonnage"
   ]
  },
  {
   "cell_type": "code",
   "execution_count": 12,
   "id": "running-horror",
   "metadata": {},
   "outputs": [],
   "source": [
    "df = pd.concat([df, df2, df3, df4], ignore_index=True)"
   ]
  },
  {
   "cell_type": "code",
   "execution_count": 13,
   "id": "selected-banks",
   "metadata": {},
   "outputs": [],
   "source": [
    "df = df.drop_duplicates(subset=['resource_id'], keep='first')"
   ]
  },
  {
   "cell_type": "code",
   "execution_count": 14,
   "id": "common-armstrong",
   "metadata": {},
   "outputs": [
    {
     "data": {
      "text/plain": [
       "(491, 8)"
      ]
     },
     "execution_count": 14,
     "metadata": {},
     "output_type": "execute_result"
    }
   ],
   "source": [
    "df.shape"
   ]
  },
  {
   "cell_type": "code",
   "execution_count": 15,
   "id": "covered-stewart",
   "metadata": {},
   "outputs": [
    {
     "data": {
      "text/plain": [
       "(291, 8)"
      ]
     },
     "execution_count": 15,
     "metadata": {},
     "output_type": "execute_result"
    }
   ],
   "source": [
    "df[df['error_type'].isna()].shape"
   ]
  },
  {
   "cell_type": "markdown",
   "id": "environmental-heater",
   "metadata": {},
   "source": [
    "## Téléchargement resources"
   ]
  },
  {
   "cell_type": "code",
   "execution_count": 19,
   "id": "specialized-runner",
   "metadata": {},
   "outputs": [],
   "source": [
    "data_path = current_path / 'data' / datetime.now().strftime('%Y%m%d')\n",
    "data_path.mkdir(parents=True, exist_ok=True)"
   ]
  },
  {
   "cell_type": "code",
   "execution_count": null,
   "id": "transsexual-division",
   "metadata": {},
   "outputs": [],
   "source": [
    "total_resources = 0\n",
    "dl_resources = 0\n",
    "\n",
    "downloaded = []\n",
    "\n",
    "for index,row in df[df['error_type'].isna()].iterrows():\n",
    "    rurl = \"https://www.data.gouv.fr/fr/datasets/r/\"+row['resource_id']\n",
    "    r = requests.get(rurl, allow_redirects=True) \n",
    "    \n",
    "    p = Path(data_path) / row['dataset_slug']\n",
    "    p.mkdir(exist_ok=True)\n",
    "    written_filename = '%s.csv' % (row['resource_id'])\n",
    "                                       \n",
    "    with open('%s/%s' % (p, written_filename), 'wb') as f:\n",
    "        dl_resources += 1\n",
    "        f.write(r.content)\n",
    "        downloaded.append(row)\n",
    "        print('✅ downloaded file [%s] %s' % (row['resource_title'], rurl))"
   ]
  },
  {
   "cell_type": "markdown",
   "id": "broken-emission",
   "metadata": {},
   "source": [
    "## Analyse via Validata"
   ]
  },
  {
   "cell_type": "code",
   "execution_count": 20,
   "id": "reported-webmaster",
   "metadata": {},
   "outputs": [],
   "source": [
    "listOfFiles = list()\n",
    "for (dirpath, dirnames, filenames) in os.walk(data_path):\n",
    "    listOfFiles += [os.path.join(dirpath, file) for file in filenames]"
   ]
  },
  {
   "cell_type": "code",
   "execution_count": 21,
   "id": "informative-miller",
   "metadata": {},
   "outputs": [
    {
     "data": {
      "text/plain": [
       "292"
      ]
     },
     "execution_count": 21,
     "metadata": {},
     "output_type": "execute_result"
    }
   ],
   "source": [
    "len(listOfFiles)"
   ]
  },
  {
   "cell_type": "code",
   "execution_count": 22,
   "id": "vietnamese-karma",
   "metadata": {},
   "outputs": [],
   "source": [
    "def recalibrating_v1(path):\n",
    "    modified = 0\n",
    "    df = pd.read_csv(path,sep=None, engine='python',dtype=str)\n",
    "    #Traitements v1\n",
    "    columns_mapping = {\n",
    "        'n_amenageur': ['nom_amenageur', 'n_amenageu'],\n",
    "        'n_operateur': ['n_operateu','nom_operateur'],\n",
    "        'n_enseigne': ['nom_enseigne'],\n",
    "        'id_station': ['id'],\n",
    "        'n_station': ['nom_station','station'],\n",
    "        'ad_station': ['adresse_station'],\n",
    "        'code_insee': ['insee'],\n",
    "        'Xlongitude': ['longitude_wsg84'],\n",
    "        'Ylatitude': ['latitude_wsg84'],\n",
    "        'nbre_pdc': ['nbre_borne'],\n",
    "        'id_pdc': ['n° borne'],\n",
    "        'puiss_max': ['puissance_max','puissance_maximale'],\n",
    "        'type_prise': ['type_connecteur','typ_charge'],\n",
    "        'acces_recharge': ['modalité d\\'accès à la borne','acces_rech'],\n",
    "        'accessibilité': ['accessibilitã©','accessibilite','accessibilit�','accessibilit','accessibilit'],\n",
    "        'observations': ['obs'],\n",
    "        'date_maj': ['date_mise_a_jour']\n",
    "    }\n",
    "    for col in df.columns:\n",
    "        for key in columns_mapping:\n",
    "            if col in columns_mapping[key]:\n",
    "                df = df.rename(columns={col:key})\n",
    "                modified = 1\n",
    "    df.to_csv(path,index=False)"
   ]
  },
  {
   "cell_type": "code",
   "execution_count": 23,
   "id": "renewable-queen",
   "metadata": {},
   "outputs": [],
   "source": [
    "schema_v2_url = 'https://schema.data.gouv.fr/schemas/etalab/schema-irve/2.0.0/schema.json'\n",
    "schema_v1_url = 'https://schema.data.gouv.fr/schemas/etalab/schema-irve/1.0.3/schema.json'\n",
    "validata_api = 'https://api.validata.etalab.studio/validate'"
   ]
  },
  {
   "cell_type": "code",
   "execution_count": 24,
   "id": "north-count",
   "metadata": {},
   "outputs": [
    {
     "name": "stdout",
     "output_type": "stream",
     "text": [
      "Processing 1 : 0d971ee6-7dff-497e-a950-0d2b0662b96c\n",
      "Processing 2 : 198eaabe-5f9c-4f91-998a-b3c3cb615e52\n",
      "Processing 3 : c8d32a3e-d3ec-490e-904f-e48c9aa3eaa1\n",
      "Processing 4 : 76fdb0c1-1d8c-4a43-a709-eb7eeb1d674e\n",
      "Processing 5 : 88e0d165-57a9-4762-8b89-86321757c943\n",
      "Processing 6 : 4b07173d-9e6c-4895-ad62-c28fc1276778\n",
      "Processing 7 : f267e0f2-cd70-41c3-80cd-8f3bf1d8c881\n",
      "Processing 8 : 85d4e170-dd22-4592-bc0e-870e9ec9835b\n",
      "Processing 9 : 005c0524-4403-4d30-bdc4-c7a13e81c9a7\n",
      "Processing 10 : a7171c9f-eb3b-4b96-9709-993522810144\n",
      "Processing 11 : 9e75a85e-255e-4f4d-8bf5-713587c1ba5e\n",
      "Processing 12 : a214acff-191d-4ddb-8ff5-0c9bfa5a68d0\n",
      "Processing 13 : 30c1dae9-1976-4061-93e5-5059cacea5bd\n",
      "Processing 14 : abef512f-da52-4178-bc10-4cd06ef07c35\n",
      "Processing 15 : 96874829-54c3-4d16-b2f3-5302e4eed962\n",
      "Processing 16 : 6dab1ebe-68f4-4014-9a30-0978489f7571\n",
      "Processing 17 : a091124b-4c6a-4a72-8e00-908b00fb5ad9\n",
      "Processing 18 : 9d7c683f-fe5f-4432-890b-163499558415\n",
      "Processing 19 : 69312c82-94f9-4d81-9a32-8fc50deff010\n",
      "Processing 20 : 6a58a299-3cbe-446c-9ca4-742324fd42ba\n",
      "Processing 21 : a7490137-3db6-4e5c-a39d-edb340379e4d\n",
      "Processing 22 : 14a46b42-8e0e-48ae-bf5d-0de742fc1cee\n",
      "Processing 23 : 1fe9c3b2-62c8-461e-9e63-88c4b3fe59c4\n",
      "Processing 24 : 65a7294c-1f96-4c3e-a5d7-069b0ca970d4\n",
      "Processing 25 : c9b96df6-a6a9-4d7f-9b31-8c71db7f169c\n",
      "Processing 26 : 57d6f3cb-89c6-45e9-bac2-e2a0ae11f57d\n",
      "Processing 27 : 3a9f0ae0-cc9f-4b20-a987-fe3bcbf6fa4b\n",
      "Processing 28 : 60f773f7-9113-420b-b492-b5e3d8159e7e\n",
      "Processing 29 : ba460b68-e779-4e9b-8295-24dc88981abe\n",
      "Processing 30 : 123f2b49-408e-4107-beb9-6ca3af9b75d1\n",
      "Processing 31 : ae6c56cb-ba4e-474c-9019-b84a4da24880\n",
      "Processing 32 : dfa73968-5de1-4009-86d5-b3a066ce2068\n",
      "Processing 33 : c79b7732-d688-4a5b-825a-129519c86c70\n",
      "Processing 34 : 08585952-6a64-4537-a3dd-0402f8e9c9b6\n",
      "Processing 35 : 0a6f1cc5-d230-4197-bd23-79c558b6067b\n",
      "Processing 36 : e82225aa-f38b-4009-88f7-c66cf2bc2a94\n",
      "Processing 37 : af3d0696-e59d-4b01-84d4-3be99ad8cd44\n",
      "Processing 38 : f9d3a470-2a3e-465f-a2ac-8a65c02321c5\n",
      "Processing 39 : 983479bc-b62f-4a3c-80cd-c5ffe828a8ec\n",
      "Processing 40 : ba850fa8-c980-4ac4-95c6-579135f60b5e\n",
      "Processing 41 : 876c684c-a7c4-4112-acec-1f296314e03f\n",
      "Processing 42 : eeda9ea4-161e-437c-b710-a1bc5b839c22\n",
      "Processing 43 : a5801df4-4726-4980-adbe-2f721527638a\n",
      "Processing 44 : 2dd79116-7fce-4a4e-8896-e2ccb6f8d879\n",
      "Processing 45 : 35156b0a-b4fa-4a1b-8d63-fcc1f5d07ca2\n",
      "Processing 46 : 8b4bcf72-cd91-4034-9200-72a5e0c9a003\n",
      "Processing 47 : 3f1f8a7f-3805-4430-9ab1-ed318eb8e7a6\n",
      "Processing 48 : 211f32db-0183-41a9-9d6d-1935f4382608\n",
      "Processing 49 : ebf7ae62-4abb-45af-ab63-8a94a836524e\n",
      "Processing 50 : 02687b46-c056-4574-8dd9-7fed2b793864\n",
      "Processing 51 : 02479d28-a987-4403-8ea2-ff1b61d4d514\n",
      "Processing 52 : 747a856a-4eda-4e37-ba60-4159c4cbc8fe\n",
      "Processing 53 : 1e5973fe-785d-48d1-bb2b-671db99c2c60\n",
      "Processing 54 : 3b119cfa-1a9a-4ead-99b8-2eb0b504ba11\n",
      "Processing 55 : 40f5e942-5245-4837-b140-8e4c5bc61529\n",
      "Processing 56 : 47e3be73-c2ab-4512-b12d-9ba1afbbe5fe\n",
      "Processing 57 : d95a80fe-cb0f-49ec-8319-5aa41795d4dc\n",
      "Processing 58 : 3d8e4ead-0ed9-4f3f-b181-6bb7f57a6c44\n",
      "Processing 59 : a8964b82-24c4-4602-a153-72c850175a56\n",
      "Processing 60 : 39e1d7fe-be0e-4c52-8d95-4fb5070f2070\n",
      "Processing 61 : be41d6d9-7da7-4de5-a86f-77f0ffbfd078\n",
      "Processing 62 : 12a253fe-526e-4dbe-971c-61870e1b8083\n",
      "Processing 63 : 3cebc6f8-8452-4a3b-bc49-89e3982f18c0\n",
      "Processing 64 : c743618f-39a2-4515-8854-8f75529fdcc0\n",
      "Processing 65 : fc85a64c-8097-41c8-ab82-e91df3b3a3c9\n",
      "Processing 66 : 6c74c635-cc54-4bce-8901-e442996c7356\n",
      "Processing 67 : fadb4829-859a-4c92-a66b-125e6567bcee\n",
      "Processing 68 : bf7824b4-a1c3-4c14-8341-9e946ccfd5a8\n",
      "Processing 69 : e32e798d-7042-4b90-81cd-a0faa41bbc3e\n",
      "Processing 70 : 115ce76e-d43b-495e-8e05-662fa61bc363\n",
      "Processing 71 : dc169a54-d977-4ff2-a90e-6a581c43745d\n",
      "Processing 72 : 54135a75-8d1e-4ad7-81d2-8c1ca262ae1f\n",
      "Processing 73 : 303e46fc-0945-49c2-9001-796e80920c85\n",
      "Processing 74 : 8a744efe-d86b-40c6-bae6-4672a78c1268\n",
      "Processing 75 : f63cf765-8aa2-47d1-ba7e-5e3d2828daf7\n",
      "Processing 76 : de09c20a-d00f-4797-a46b-23cb61ea5c23\n",
      "Processing 77 : 4477b75b-f5b6-495b-8588-221cad8798bc\n",
      "Processing 78 : 08d2bbe1-6194-4b2a-bd0c-715e9621802d\n",
      "Processing 79 : 313244c6-bfe0-49f2-8892-6c91e3e6338c\n",
      "Processing 80 : 45990a66-3c4d-4287-bc9b-f96bd5712389\n",
      "Processing 81 : 8d1f8c7c-293b-4d77-bf15-683136a48831\n",
      "Processing 82 : cdb4d934-9088-42e6-8d6b-56768357df18\n",
      "Processing 83 : 99002f5b-f957-45e2-9d7a-ce04c66b3ad3\n",
      "Processing 84 : 9a6c8c68-6002-42e2-9b4f-6ddea223c5fc\n",
      "Processing 85 : cd04822a-97ac-4291-9c50-6207764ea73b\n",
      "Processing 86 : 23e00253-d144-447a-ae1c-92b2b774ab07\n",
      "Processing 87 : 74930a1b-11b1-4af9-b665-4ac14c2ea532\n",
      "Processing 88 : e18a9301-f0ec-4c84-aec8-494c9d1fbc6d\n",
      "Processing 89 : bdb72f0a-0209-49bc-8fc0-67c89929face\n",
      "Processing 90 : e5519a59-a55a-4824-b030-fad5a77f8b58\n",
      "Processing 91 : 48cf96a0-09e5-4439-b657-771e152bd111\n",
      "Processing 92 : bd23b47a-2bba-4ad2-8cbe-0a52b021194e\n",
      "Processing 93 : df922622-a1c3-4e27-abe0-2590e38ff545\n",
      "Processing 94 : b983b628-83c7-48ac-8f16-c8131ab1fc93\n",
      "Processing 95 : ea099ebe-2726-4e23-935e-3ff78bbb36ca\n",
      "Processing 96 : fde0722b-9863-4c54-8c0f-e5bbcf474e8a\n",
      "Processing 97 : 60be29cf-4ee9-4657-805f-16b90960230a\n",
      "Processing 98 : 65c3bd30-f0de-495b-8ccb-d96cf4a61ecb\n",
      "Processing 99 : 64c731d4-9b1e-4e60-bb67-7507b20ac9c5\n",
      "Processing 100 : 98ff7f95-f34e-427b-8035-550dfc462c09\n",
      "Processing 101 : 810f064b-3bd1-48db-b435-bb3f337f1c2a\n",
      "Processing 102 : 25e8259b-77e9-478c-8940-f14546962720\n",
      "Processing 103 : 784df802-601b-491e-a7c5-cf68d7e61b5d\n",
      "Processing 104 : 7216f0e3-c362-4c7b-9619-517e8797b1bf\n",
      "Processing 105 : 0b39261f-6da2-4b21-97ec-a064502d1fc5\n",
      "Processing 106 : 94eeb795-9b20-43be-824d-4746bdbafbc9\n",
      "Processing 107 : cc3595b9-4577-4ca7-a8ff-77a688017a64\n",
      "Processing 108 : 4fb5c9b8-cfbc-4765-a2d1-86c0244ffe2e\n",
      "Processing 109 : 3e765d54-f81c-412d-8333-afd9dce02d2f\n",
      "Processing 110 : c57b7ab0-f375-4e5e-850b-944d29e24e2d\n",
      "Processing 111 : 28813422-183a-437b-b1fe-bc4aa70bbeb5\n",
      "Processing 112 : bdae432e-62b7-4bd1-93af-921ec656fe08\n",
      "Processing 113 : 53e4f3e0-06e4-41e6-bc08-0dc51c2f3aad\n",
      "Processing 114 : 01069976-ce95-4d79-82bf-8e69c2bf6369\n",
      "Processing 115 : 54282559-1b1a-4a94-8640-aeabc87f74cf\n",
      "Processing 116 : 32cca70a-96eb-4109-8098-f125de397ff1\n",
      "Processing 117 : 347a373f-5a79-43f3-9bc4-4672d1da1de4\n",
      "Processing 118 : 471c5b50-d214-4ecd-add0-b03428406b5f\n",
      "Processing 119 : 5805d04b-8383-4ac1-8dce-b1a2f6c84d36\n",
      "Processing 120 : 1dd6d0ca-2c2c-43c0-832c-11b5d4e32868\n",
      "Processing 121 : 30e64828-6716-47d9-b6e6-5522eaa00d71\n",
      "Processing 122 : ec86b8c6-80f3-46b8-af7b-c329d2300567\n",
      "Processing 123 : 5b5d3450-bdef-4fe5-a6d2-970dd48a774e\n",
      "Processing 124 : f965b78c-ed73-4ed8-a082-68cd94ceeaae\n",
      "Processing 125 : 9d753711-7ef1-44c7-a2b9-daed63871e77\n",
      "Processing 126 : 28f0b94e-3ba3-42fa-93a3-40aa2a1c8723\n",
      "Processing 127 : 8ade34ff-cadb-4ea8-b59b-33ce7c1543c6\n",
      "Processing 128 : 693180d9-05c1-44b1-a29d-9e831e1fdbb5\n",
      "Processing 129 : 6ee4bf7a-ba41-4025-93f1-738ef6e962f5\n",
      "Processing 130 : 31bb1f93-a2cb-423a-b870-311e0b5e28e6\n",
      "Processing 131 : c0196b59-8fa5-457f-bc53-f31d69bcbfdd\n",
      "Processing 132 : 5f6e45e2-95bd-46b2-817c-78f533405415\n",
      "Processing 133 : 8d5e8e1a-e46a-4118-b7a2-da99593f8edf\n",
      "Processing 134 : a7b1273f-ed07-4148-b7ea-bb6d560385db\n",
      "Processing 135 : 9e6f5b16-eaaa-4ac2-8076-c1c64e9de993\n",
      "Processing 136 : 7fcf7267-d050-4006-b8fc-897445c8bfef\n",
      "Processing 137 : c6bf56ac-2a26-4384-bef9-2f7846dfe7cc\n",
      "Processing 138 : e86ae03b-069c-4961-a65b-52b8a6788d1c\n",
      "Processing 139 : add8fd4c-9444-4b5e-b9cb-81c7c9dfa57e\n",
      "Processing 140 : 7b33cfe5-534e-478c-b2a1-bd3dd0e38132\n",
      "Processing 141 : 446e191b-a51e-4678-9788-d28faa8a3600\n",
      "Processing 142 : d612ca97-ab92-4916-85f2-d298294c61b1\n",
      "Processing 143 : 8fd4119e-52dd-489d-9316-343a4f817591\n",
      "Processing 144 : 42abe450-6454-4f16-ae92-9fb7735d77f7\n",
      "Processing 145 : 94db1f41-9c5a-4de1-85cf-bd037492ccb3\n",
      "Processing 146 : e6107e71-deae-4860-8cff-f9e60b46aa7f\n",
      "Processing 147 : ad6eea4a-9ceb-4c9d-8b25-e9cea40c49f0\n",
      "Processing 148 : 98dca738-7d14-452d-b134-a3e42c70edc9\n",
      "Processing 149 : 59fc69d9-25df-43fc-adb4-8de966640478\n",
      "Processing 150 : d8bc2b3d-472a-4667-92e9-b407ecbdb2e9\n",
      "Processing 151 : 957b6ddc-681e-477d-8e9a-779d731ccd6b\n",
      "Processing 152 : 1bf801fa-43c0-448e-949a-0a91ac15d11c\n",
      "Processing 153 : 6bee9a1e-dc8e-4228-9e16-2fa477986b81\n",
      "Processing 154 : 51f7595a-4ceb-4e46-8490-bbf14478d66c\n"
     ]
    },
    {
     "name": "stdout",
     "output_type": "stream",
     "text": [
      "Processing 155 : 0ea3d6d8-04e6-42d7-a2a3-48dd35ba4a9e\n",
      "Processing 156 : 9884dfaf-af80-4987-8353-99b920b1606d\n",
      "Processing 157 : f5b1a158-97cc-44a7-975f-b59e17fa8eba\n",
      "Processing 158 : 662953da-7317-4c9a-8b40-debf3133bbca\n",
      "Processing 159 : b801cbfe-bc67-42d0-a5e8-b6b96d12d494\n",
      "Processing 160 : eacde123-5251-41d0-a481-4e47db65b936\n",
      "Processing 161 : 35f9c9dd-bfbf-4682-b40f-666576365cc8\n",
      "Processing 162 : d7326edf-9943-4c41-803a-739008e08434\n",
      "Processing 163 : 0e857a6c-a1f0-4fc2-a82a-7e3a7cda29f2\n",
      "Processing 164 : 32e8fda8-96e8-401c-a3e3-99fa8a5977d8\n",
      "Processing 165 : 4e9608c9-442a-4b39-8ed3-3eb92491a9bb\n",
      "Processing 166 : 1f8d4e60-8e93-43ba-8c90-7e984a1648d4\n",
      "Processing 167 : e81aaab7-c573-40f2-b1b3-7ed9c411ccc9\n",
      "Processing 168 : fde557ec-b96e-49a5-9282-31407296282c\n",
      "Processing 169 : 696b4a10-6181-4dcc-b096-c0c824362091\n",
      "Processing 170 : ef0f3505-b7a5-416e-aa70-2a24a835933e\n",
      "Processing 171 : 04d40b0d-dc78-4a60-a12e-53db2d7d3389\n",
      "Processing 172 : ef3b67f9-915c-4252-b67e-b2a1f70e7831\n",
      "Processing 173 : 7cddde99-9481-4bb8-a659-ccaad5243e11\n",
      "Processing 174 : c72e84d4-b640-4d68-a0b7-997ecdb0ffa7\n",
      "Processing 175 : 35b4cdb3-b731-4e7f-813a-e9a91f9c77cd\n",
      "Processing 176 : 5f52c41c-d7d9-4e67-b67d-eff4eee70899\n",
      "Processing 177 : 9d704fdb-cb98-4361-8d5f-d539f8636c09\n",
      "Processing 178 : bfc51035-2aff-4a61-8c1f-3f0150294f90\n",
      "Processing 179 : 9a6453ff-e6df-4538-ab3c-3c4ac21fda01\n",
      "Processing 180 : aced553d-c529-4aef-b20b-87f2c5e1ec74\n",
      "Processing 181 : eef7d72d-317b-4258-aeca-aa1e02117886\n",
      "Processing 182 : 7a4f71bf-1604-44c1-9490-5469760291cd\n",
      "Processing 183 : 1fc79025-df85-402b-82e4-561ce95f3fb3\n",
      "Processing 184 : e3004f2e-599a-4844-bf0c-ec1f0d7f5c7f\n",
      "Processing 185 : bad9974a-56c9-45fd-bb7b-528fed9d007c\n",
      "Processing 186 : b76448ec-5087-4f61-aba2-9b3422a24466\n",
      "Processing 187 : 0832728c-7ecf-4b79-ac44-a3d8df660658\n",
      "Processing 188 : 2420e873-88ee-45d0-8aa1-5e4927ae2991\n",
      "Processing 189 : e018eec1-b3ed-49ec-a945-cdd1c4b2ae4b\n",
      "Processing 190 : 7f3cb6f0-58b8-4819-969b-0cdeae7dba80\n",
      "Processing 191 : 1840fe3c-1f3b-458d-80e5-7a76e306210e\n",
      "Processing 192 : 445b9c11-3464-491e-ad46-deb3ecbf1b7a\n",
      "Processing 193 : ea9f517c-076e-4f0b-9c2d-9531161beda6\n",
      "Processing 194 : f440a31d-25c6-4330-94a0-42911d64f8f4\n",
      "Processing 195 : e0bd6928-78b9-420c-a877-e44ec2e2ded5\n",
      "Processing 196 : 1579c16c-5b23-46d9-880e-f228f97acc33\n",
      "Processing 197 : aebeb103-1cb4-4f90-9534-8fbce9c8f74f\n",
      "Processing 198 : e7c7211a-097d-4654-aa63-8faea54e9620\n",
      "Processing 199 : a2e7aedf-e35d-4316-a1dc-cfd2c4ff8553\n",
      "Processing 200 : 01a6ccdc-e5c1-480e-b7aa-6cd15bba8393\n",
      "Processing 201 : b3e3b0c7-6422-4ab6-acf8-d496b1577ed5\n",
      "Processing 202 : dcc7dc3b-29e6-4366-ba55-a6a78688fbd5\n",
      "Processing 203 : b485324d-2b8f-44ea-a06f-4227d6aceb0c\n",
      "Processing 204 : 2346c6fb-1feb-4544-907c-644edb83f177\n",
      "Processing 205 : eadaeee8-c76b-4f26-99b0-3ba75e684558\n",
      "Processing 206 : 237aa852-c252-415e-b358-f8649c980dd8\n",
      "Processing 207 : 90879e7b-b907-40c7-8699-43c0a962d2fe\n",
      "Processing 208 : 2c7a66be-348f-4e67-96c2-7216e6f4bc71\n",
      "Processing 209 : 5585604e-0ee9-406b-9998-2b7e7a57f291\n",
      "Processing 210 : acb9e6e8-c458-4115-9b62-073129ea48c9\n",
      "Processing 211 : a05390b1-0e05-463f-9b73-45cab31f2d44\n",
      "Processing 212 : 01905244-4ebf-404e-b23a-b509ea738f60\n",
      "Processing 213 : 65dc0faf-1e81-45d9-bfd0-c6cc8d0746a6\n",
      "Processing 214 : 57a9a35e-5714-47f8-a649-44b08486c88b\n",
      "Processing 215 : 2a6d728e-4f45-46f4-b92b-79a44c487c08\n",
      "Processing 216 : 0e6f14af-b7e3-4d10-89d1-f53c49220746\n",
      "Processing 217 : 29ebaccd-59b2-4263-af2f-3b0d3bba598f\n",
      "Processing 218 : 19d019d4-f914-48d1-9ca9-c5630e1f7617\n",
      "Processing 219 : cb5b0952-6275-4494-a24d-c78d04dd7b9f\n",
      "Processing 220 : 19f357e2-98f9-47ef-9118-2772223f6eec\n",
      "Processing 221 : 2df3b3cc-f6b0-4b0b-9de5-7e00b536ddfd\n",
      "Processing 222 : 89b0280c-0f35-4003-82e1-da53e5a07a21\n",
      "Processing 223 : 6f0f573d-874f-4070-804b-c4c1bd28fde5\n",
      "Processing 224 : 9defa2fe-5bed-4080-a81f-2a9c176e0bc1\n",
      "Processing 225 : 81a80011-1e3c-428a-910a-ea6e4f23cf80\n",
      "Processing 226 : 873b3ace-22c0-4712-ae61-0e7204d8a63e\n",
      "Processing 227 : 4c72e3dc-3767-46c9-b5d0-d06c8ed5e9cb\n",
      "Processing 228 : f7f1aaaf-e10e-4719-879a-412f8cd19f03\n",
      "Processing 229 : e3bf20cc-3b4b-4e14-952b-252850d9c67f\n",
      "Processing 230 : 30155455-de66-4bd2-a242-3217fd6e7489\n",
      "Processing 231 : df7d5a1d-9b90-4108-b28d-9fade0f80995\n",
      "Processing 232 : f2e2ed01-1f28-40c1-875b-c52af7bc1388\n",
      "Processing 233 : 5f59d7ca-1b75-4974-bde5-fd9a3b42177d\n",
      "Processing 234 : b6260fae-b136-489d-a8db-85f55bf4edca\n",
      "Processing 235 : 08e51550-b380-4ec6-8362-eac7c4cfab8d\n",
      "Processing 236 : a2e997be-8407-4d43-b699-bfb21eb31cd9\n",
      "Processing 237 : 0581059f-fa7a-46b6-a2b8-9a4343e038ae\n",
      "Processing 238 : c1803514-9084-472f-a1d9-6340c103c474\n",
      "Processing 239 : be922086-5d36-4d90-9f79-a5855da65671\n",
      "Processing 240 : c47a1b03-2f39-4eba-90f9-4b36be559b8d\n",
      "Processing 241 : 14d0124b-3975-4a25-8ae1-3b878b502f47\n",
      "Processing 242 : ee6c78d6-76fc-4308-b8cb-b307712bf832\n",
      "Processing 243 : bf27d753-94ae-4656-878a-158c61e136cd\n",
      "Processing 244 : e8b3dd76-d39e-4016-80b6-92384f056390\n",
      "Processing 245 : d9bf5afb-20c6-4f82-9662-ab8c7c913460\n",
      "Processing 246 : 7a8b8e81-04b1-44a8-81d7-0ec56f9ce107\n",
      "Processing 247 : e8cb8d24-ff18-4459-8ca7-3f9e4ea6f05a\n",
      "Processing 248 : e4c1e1ad-b4fb-44cb-b205-8b051bcbfdb0\n",
      "Processing 249 : 4e08e3fc-57c6-4415-bc35-d226827bf1fd\n",
      "Processing 250 : 627dabce-a369-4161-990f-dc10bb018852\n",
      "Processing 251 : 686d6a13-9325-456f-b11f-49d4934e5386\n",
      "Processing 252 : 3187539c-9f5a-4683-8039-73a7173c08ba\n",
      "Processing 253 : bd1eabd4-f323-4932-a203-f7cd54e2797f\n",
      "Processing 254 : 6d189577-af67-4d72-ba60-73fa62fd35fc\n",
      "Processing 255 : 517258d5-aee7-4fa4-ac02-bd83ede23d25\n",
      "Processing 256 : 7200c6bf-bc56-498d-96dc-34c308e99db9\n",
      "Processing 257 : 93b6eddf-9320-400b-bbcb-3be7151d4964\n",
      "Processing 258 : dbef2fb3-48af-48e9-8c3c-6a7b1080991c\n",
      "Processing 259 : d42058aa-fe7d-43fc-93e3-005e77075e33\n",
      "Processing 260 : 7d1e8c21-1b4a-4392-b521-8d8c6d5fff19\n",
      "Processing 261 : a6294196-6ce7-4ec9-9a19-47ecbd8e2c09\n",
      "Processing 262 : 540cbce0-47a6-4c74-b884-37663bbf9576\n",
      "Processing 263 : 8c64dfa2-336b-46a9-bdd9-991d7b19c1f1\n",
      "Processing 264 : e2f49a12-ead4-4f08-bd3c-8482df24b56e\n",
      "Processing 265 : 564a7e24-eb69-456c-a0d1-a2750011b363\n",
      "Processing 266 : 125fffca-5416-4907-abc5-7fa29314e054\n",
      "Processing 267 : 3dcf1e9f-98cd-4b96-9c96-2123df1dd155\n",
      "Processing 268 : 7bd44410-7412-4c56-850f-ccafcf405ecc\n",
      "Processing 269 : 391d0d67-8bba-4d7b-865d-a26f847d6fc2\n",
      "Processing 270 : 4cbb9f6c-11f6-4243-a40b-c773fb605e5d\n",
      "Processing 271 : c8de760a-b234-404b-8163-23f085751b48\n",
      "Processing 272 : 08dc2820-d795-4bfc-8b7b-caa6e86b78ab\n",
      "Processing 273 : 0f82a01c-b44f-4d51-bdfb-9be5e6d42627\n",
      "Processing 274 : ac843faf-3be1-4d43-b69f-4e9f2caa8a66\n",
      "Processing 275 : 099eb6ff-bcf4-42be-bda7-61dfe1ca4c9f\n",
      "Processing 276 : 05ab8a52-2976-489c-a6db-01bcbefa4e92\n",
      "Processing 277 : 6ee579c7-f9d2-4395-8dc1-b0420ad50479\n",
      "Processing 278 : c791cedd-e30f-4f6b-b11f-803faff21420\n",
      "Processing 279 : 52f99086-21f3-460d-bd76-8e0c1218bff1\n",
      "Processing 280 : 8b32bef4-cab9-4b91-a737-0dea26a5238d\n",
      "Processing 281 : a22f7243-998a-4e8d-8322-b428040a4223\n",
      "Processing 282 : 2e99ea46-eee8-4dfb-8f2b-98f2032704da\n",
      "Processing 283 : 87c60c59-0795-455e-bc91-4213abbba071\n",
      "Processing 284 : 28c16aca-15f8-4801-86a2-732c4828fa01\n",
      "Processing 285 : 03de6309-9c71-46e4-a2f6-64e2df38e675\n",
      "Processing 286 : 6f82dcf8-e093-451a-ad4a-5a8399263bff\n",
      "Processing 287 : 08e36510-bc95-49d9-a92c-cf36a9ffc871\n",
      "Processing 288 : b54093fb-7f95-4ce2-8a62-4471538d8bfa\n",
      "Processing 289 : 4b9fb8cc-3038-4c29-b88b-31933d7ad4a9\n",
      "Processing 290 : a9bb9de7-7133-4db2-9214-e33ae79ceed4\n",
      "Processing 291 : 79b460c3-0b73-4f0a-8f00-57fc5d40e06a\n",
      "Processing 292 : 46203203-88f2-41a8-a62d-56b814059ad6\n"
     ]
    }
   ],
   "source": [
    "arr = []\n",
    "cpt = 0\n",
    "for f in listOfFiles:\n",
    "    try:\n",
    "        cpt +=1\n",
    "        print(\"Processing \"+str(cpt)+\" : \"+f.replace('.csv','').replace('csv/','').split(\"/\")[-1])\n",
    "        obj = {}\n",
    "        obj['resource_id'] = f.replace('.csv','').replace('csv/','').split(\"/\")[-1]\n",
    "        obj['local_file'] = f\n",
    "        file = {'file': open(f,'rb')}\n",
    "        data = {'schema': schema_v2_url}\n",
    "        time.sleep(1)\n",
    "        r = requests.post(validata_api, files=file, data=data)\n",
    "        if(r.json()['report']['valid']):\n",
    "            obj['version'] = '2.0.0'\n",
    "        else:\n",
    "            recalibrating_v1(f)\n",
    "            time.sleep(1)\n",
    "            file = {'file': open(f,'rb')}\n",
    "            data = {'schema': schema_v1_url}\n",
    "            r = requests.post(validata_api, files=file, data=data)\n",
    "            if(r.json()['report']['valid']):\n",
    "                obj['version'] = '1.0.3'\n",
    "            else:\n",
    "                obj['error_type'] = 'validation'\n",
    "        arr.append(obj)\n",
    "    except:\n",
    "        obj = {}\n",
    "        obj['resource_id'] = f.replace('.csv','').replace('csv/','').split(\"/\")[-1]\n",
    "        obj['local_file'] = f\n",
    "        obj['error_type'] = 'read'\n",
    "        arr.append(obj)\n",
    "        pass\n"
   ]
  },
  {
   "cell_type": "code",
   "execution_count": 25,
   "id": "tight-visibility",
   "metadata": {},
   "outputs": [],
   "source": [
    "proc = pd.DataFrame(arr)"
   ]
  },
  {
   "cell_type": "markdown",
   "id": "copyrighted-ticket",
   "metadata": {},
   "source": [
    "## Dédoublonnage"
   ]
  },
  {
   "cell_type": "code",
   "execution_count": 26,
   "id": "traditional-pipeline",
   "metadata": {},
   "outputs": [],
   "source": [
    "df = pd.merge(df,proc,on='resource_id',how='left')"
   ]
  },
  {
   "cell_type": "code",
   "execution_count": 27,
   "id": "opposed-phrase",
   "metadata": {},
   "outputs": [],
   "source": [
    "df.error_type_x.update(df.error_type_y)"
   ]
  },
  {
   "cell_type": "code",
   "execution_count": 28,
   "id": "advisory-korea",
   "metadata": {},
   "outputs": [],
   "source": [
    "df = df.rename(columns={'error_type_x':'error_type'})\n",
    "df = df.drop(columns=['error_type_y'])"
   ]
  },
  {
   "cell_type": "code",
   "execution_count": 188,
   "id": "realistic-reservation",
   "metadata": {},
   "outputs": [],
   "source": [
    "def dedoublonnage(df, col):\n",
    "    arr = []\n",
    "    df = df.sort_values('last_modified', ascending=False)\n",
    "    valcounts = pd.DataFrame(dfConso.id_pdc_itinerance.value_counts())\n",
    "    doublons = valcounts[valcounts[col] > 1].index.to_list()\n",
    "    if \"Non concerné\" in doublons: doublons.remove(\"Non concerné\")\n",
    "    for item in doublons:\n",
    "        lendf = len(df[df[col] == item].index.to_list())\n",
    "        for i in range(0,lendf-1):\n",
    "            obj = {}\n",
    "            obj['resource_id_keep'] = df[df.index == df[df[col] == item].index.to_list()[0]]['resource_id'].iloc[0]\n",
    "            obj['last_modified_keep'] = df[df.index == df[df[col] == item].index.to_list()[0]]['last_modified'].iloc[0]\n",
    "            obj['resource_id_delete'] = df[df.index == df[df[col] == item].index.to_list()[i+1]]['resource_id'].iloc[0]\n",
    "            obj['last_modified_delete'] = df[df.index == df[df[col] == item].index.to_list()[i+1]]['last_modified'].iloc[0]\n",
    "            obj[col] = item\n",
    "            arr.append(obj)\n",
    "            df = df.drop(df[df[col] == item].index.to_list()[1:])\n",
    "    return df, arr"
   ]
  },
  {
   "cell_type": "code",
   "execution_count": 189,
   "id": "double-reader",
   "metadata": {},
   "outputs": [
    {
     "name": "stdout",
     "output_type": "stream",
     "text": [
      "2.0.0\n"
     ]
    }
   ],
   "source": [
    "versions = df['version'].dropna().unique().tolist()\n",
    "for v in [\"2.0.0\"]:\n",
    "    print(v)\n",
    "    cpt = 0\n",
    "    arr = []\n",
    "    for index,row in df[df['version'] == v].iterrows():\n",
    "        with open(row['local_file'],'rb') as f:\n",
    "            encoding = chardet.detect(f.read()).get('encoding')  \n",
    "            if(encoding == 'Windows-1254'):\n",
    "                encoding = 'iso-8859-1'\n",
    "\n",
    "        if cpt == 0:\n",
    "            dfConso = pd.read_csv(row['local_file'], sep=None, engine=\"python\",dtype=str,encoding=encoding)\n",
    "            dfConso['last_modified'] = row['resource_last_modified']\n",
    "            dfConso['resource_id'] = row['resource_id']\n",
    "            cpt += 1\n",
    "        else:\n",
    "            dfinter = pd.read_csv(row['local_file'], sep=None, engine=\"python\",dtype=str,encoding=encoding)\n",
    "            dfinter['last_modified'] = row['resource_last_modified']\n",
    "            dfinter['resource_id'] = row['resource_id']\n",
    "            dfConso = pd.concat([dfConso, dfinter], ignore_index=True)\n",
    "            # Dédoublonnage here\n",
    "        dfConso, arrinter = dedoublonnage(dfConso, 'id_pdc_itinerance')\n",
    "        arr = arr + arrinter\n",
    "\n",
    "    dfConso = dfConso.drop_duplicates()\n",
    "    dfConso.to_csv('irve-'+v+'.csv',index=False, encoding=\"utf-8\",na_rep='null')"
   ]
  },
  {
   "cell_type": "code",
   "execution_count": 190,
   "id": "dedicated-burst",
   "metadata": {},
   "outputs": [],
   "source": [
    "log2 = pd.DataFrame(arr)"
   ]
  },
  {
   "cell_type": "code",
   "execution_count": 192,
   "id": "ancient-oliver",
   "metadata": {},
   "outputs": [],
   "source": [
    "log2.to_csv(\"logs/log-doublons-\"+datetime.now().strftime('%Y%m%d')+\".csv\",index=False)"
   ]
  },
  {
   "cell_type": "code",
   "execution_count": null,
   "id": "institutional-paris",
   "metadata": {},
   "outputs": [],
   "source": [
    "df['error_type'] = df['error_type'].apply(lambda x: 'no-error' if x == None else x)"
   ]
  },
  {
   "cell_type": "code",
   "execution_count": null,
   "id": "moving-joseph",
   "metadata": {},
   "outputs": [],
   "source": [
    "df.drop(columns=['local_file']).to_csv(\"logs/log-general-\"+datetime.now().strftime('%Y%m%d')+\".csv\",index=False)"
   ]
  }
 ],
 "metadata": {
  "kernelspec": {
   "display_name": "Python 3",
   "language": "python",
   "name": "python3"
  },
  "language_info": {
   "codemirror_mode": {
    "name": "ipython",
    "version": 3
   },
   "file_extension": ".py",
   "mimetype": "text/x-python",
   "name": "python",
   "nbconvert_exporter": "python",
   "pygments_lexer": "ipython3",
   "version": "3.7.3"
  }
 },
 "nbformat": 4,
 "nbformat_minor": 5
}
