{
 "cells": [
  {
   "cell_type": "markdown",
   "metadata": {},
   "source": [
    "# update-yearly-stats\n",
    "\n",
    "Updates https://www.data.gouv.fr/fr/datasets/statistiques-de-consultation-de-data-gouv-fr/#_ every year with data from previous year."
   ]
  },
  {
   "cell_type": "code",
   "execution_count": null,
   "metadata": {},
   "outputs": [],
   "source": [
    "import requests\n",
    "import pandas as pd"
   ]
  },
  {
   "cell_type": "code",
   "execution_count": null,
   "metadata": {},
   "outputs": [],
   "source": [
    "import os\n",
    "from datetime import datetime\n",
    "default_year = datetime.now().year - 1\n",
    "year = os.getenv('NB_AUDIENCE_YEAR', default_year)\n",
    "year"
   ]
  },
  {
   "cell_type": "code",
   "execution_count": null,
   "metadata": {},
   "outputs": [],
   "source": [
    "def get_months(site_id, year):\n",
    "\n",
    "    endpoint = 'https://stats.data.gouv.fr/'\n",
    "    \n",
    "    params = {\n",
    "        'idSite': site_id,\n",
    "        'module': 'API',\n",
    "        'method': 'API.get',\n",
    "        'format': 'json',\n",
    "        'period': 'day',\n",
    "        'date': '{0}-01-01,{0}-12-31'.format(year),\n",
    "    }\n",
    "        \n",
    "    r = requests.get(endpoint, params=params)\n",
    "    \n",
    "    df = pd.DataFrame(r.json()).transpose()\n",
    "\n",
    "    return df\n",
    "\n",
    "df = get_months(109, year)\n",
    "\n",
    "df"
   ]
  },
  {
   "cell_type": "code",
   "execution_count": null,
   "metadata": {},
   "outputs": [],
   "source": [
    "csv_filename = \"{}-days.csv\".format(year)\n",
    "df.to_csv(csv_filename)"
   ]
  },
  {
   "cell_type": "code",
   "execution_count": null,
   "metadata": {},
   "outputs": [],
   "source": [
    "apikey = os.environ['NB_IRVE_APIKEY']\n",
    "dataset_id = \"5a22644f88ee3848529af925\""
   ]
  },
  {
   "cell_type": "code",
   "execution_count": null,
   "metadata": {},
   "outputs": [],
   "source": [
    "# send the results to the portal\n",
    "import requests\n",
    "\n",
    "url = 'https://www.data.gouv.fr/api/1/datasets/%s' % dataset_id\n",
    "\n",
    "with open(csv_filename, 'rb') as csvfile:\n",
    "    files = {'file': (csv_filename, csvfile.read())}\n",
    "\n",
    "# upload file\n",
    "r = requests.post('%s/upload/' % url, files=files, headers={'x-api-key': apikey})\n",
    "assert r.status_code == 201\n",
    "\n",
    "# update resource's metadata\n",
    "resource = r.json()\n",
    "resource['title'] = \"Statistiques de consultation pour l'année {}\".format(year)\n",
    "r = requests.put('%s/resources/%s/' % (url, resource['id']), json=resource, headers={'x-api-key': apikey})\n",
    "assert r.status_code == 200\n",
    "print(r.json())"
   ]
  },
  {
   "cell_type": "code",
   "execution_count": null,
   "metadata": {},
   "outputs": [],
   "source": []
  }
 ],
 "metadata": {
  "kernelspec": {
   "display_name": "Python 3",
   "language": "python",
   "name": "python3"
  },
  "language_info": {
   "codemirror_mode": {
    "name": "ipython",
    "version": 3
   },
   "file_extension": ".py",
   "mimetype": "text/x-python",
   "name": "python",
   "nbconvert_exporter": "python",
   "pygments_lexer": "ipython3",
   "version": "3.9.0"
  }
 },
 "nbformat": 4,
 "nbformat_minor": 4
}
