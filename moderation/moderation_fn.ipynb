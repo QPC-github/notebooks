{
 "cells": [
  {
   "cell_type": "code",
   "execution_count": null,
   "metadata": {},
   "outputs": [],
   "source": [
    "import requests\n",
    "import dateutil\n",
    "from datetime import datetime, timedelta\n",
    "from IPython.core.display import display, HTML"
   ]
  },
  {
   "cell_type": "code",
   "execution_count": null,
   "metadata": {},
   "outputs": [],
   "source": [
    "def get_data(endpoint, page, sort):\n",
    "    r = requests.get('https://%s/api/1/%s?page_size=%s&sort=%s&page=%s' % (DOMAIN, endpoint, PAGE_SIZE, sort, page))\n",
    "    return r.json().get('data', [])"
   ]
  },
  {
   "cell_type": "code",
   "execution_count": null,
   "metadata": {},
   "outputs": [],
   "source": [
    "def get_last_items(endpoint, date_key='created_at', sort_key='-created'):\n",
    "\n",
    "    got_everything = False\n",
    "    results = []\n",
    "    page = 1\n",
    "\n",
    "    while not got_everything:\n",
    "        data = get_data(endpoint, page, sort_key)\n",
    "        for d in data:\n",
    "            created = dateutil.parser.parse(d[date_key])\n",
    "            got_everything = (created < start_date)\n",
    "            if not got_everything:\n",
    "                results.append(d)\n",
    "            else:\n",
    "                break\n",
    "        if not data or got_everything:\n",
    "            break\n",
    "        else:\n",
    "            page += 1\n",
    "\n",
    "    return results"
   ]
  },
  {
   "cell_type": "code",
   "execution_count": null,
   "metadata": {},
   "outputs": [],
   "source": [
    "def show_html(html):\n",
    "    display(HTML(html))\n",
    "    \n",
    "def make_link(text, link):\n",
    "    return '<a href=\"%s\" target=\"_blank\">%s</a>' % (link, text)\n",
    "\n",
    "def show_link(text, link):\n",
    "    show_html(make_link(text, link))\n",
    "    \n",
    "def fullname(user):\n",
    "    return '%s %s' % (user['first_name'], user['last_name'])"
   ]
  },
  {
   "cell_type": "code",
   "execution_count": null,
   "metadata": {},
   "outputs": [],
   "source": [
    "def get_last_discussions():\n",
    "    got_everything = False\n",
    "    results = []\n",
    "    page = 1\n",
    "\n",
    "    while not got_everything:\n",
    "        data = get_data('discussions', page, '-discussion__posted_on')\n",
    "        data = [(d['id'], d['subject'], d['title'], d['discussion']) for d in data]\n",
    "        for _id, subject, title, comments in data:\n",
    "            createds = [dateutil.parser.parse(c['posted_on']) for c in comments]\n",
    "            created = max(createds)\n",
    "            got_everything = (created < start_date)\n",
    "            if not got_everything:\n",
    "                for comment in comments:\n",
    "                    if dateutil.parser.parse(comment['posted_on']) >= start_date:\n",
    "                        results.append((_id, subject, title, comment))\n",
    "            else:\n",
    "                break\n",
    "        if got_everything:\n",
    "            break\n",
    "        else:\n",
    "            page += 1\n",
    "            print('page', page)\n",
    "\n",
    "    return results"
   ]
  },
  {
   "cell_type": "code",
   "execution_count": null,
   "metadata": {},
   "outputs": [],
   "source": [
    "def show_users():\n",
    "    users = get_last_items('users', date_key='since')\n",
    "\n",
    "    show_html('<h3>%s utilisateurs créés</h3>' % len(users))\n",
    "\n",
    "    for user in users:\n",
    "        show_link(fullname(user), user['page'])"
   ]
  },
  {
   "cell_type": "code",
   "execution_count": null,
   "metadata": {},
   "outputs": [],
   "source": [
    "def show_datasets():\n",
    "    datasets = get_last_items('datasets')\n",
    "\n",
    "    show_html('<h3>%s jeux de données créés</h3>' % len(datasets))\n",
    "\n",
    "    for dataset in datasets:\n",
    "        if not dataset['organization'] and not dataset['owner']:\n",
    "            owner = '- orphan -'\n",
    "            owner_url = '#'\n",
    "        else:\n",
    "            owner = dataset['organization']['name'] if dataset['organization'] else fullname(dataset['owner'])\n",
    "            owner_url = dataset['organization']['page'] if dataset['organization'] else dataset['owner']['page']\n",
    "        html = make_link(dataset['title'], dataset['page'])\n",
    "        html += ' par '\n",
    "        html += make_link(owner, owner_url)\n",
    "        show_html(html)"
   ]
  },
  {
   "cell_type": "code",
   "execution_count": null,
   "metadata": {},
   "outputs": [],
   "source": [
    "def show_orgas():\n",
    "    orgs = get_last_items('organizations')\n",
    "\n",
    "    show_html('<h3>%s organisations créées</h3>' % len(orgs))\n",
    "\n",
    "    for org in orgs:\n",
    "        show_link(org['name'], org['page'])"
   ]
  },
  {
   "cell_type": "code",
   "execution_count": null,
   "metadata": {},
   "outputs": [],
   "source": [
    "def show_reuses():\n",
    "    reuses = get_last_items('reuses')\n",
    "\n",
    "    show_html('<h3>%s réutilisations créées</h3>' % len(reuses))\n",
    "\n",
    "    for reuse in reuses:\n",
    "        owner = None\n",
    "        if reuse['organization']:\n",
    "            owner = reuse['organization']['name']\n",
    "        elif reuse['owner']:\n",
    "            owner = fullname(reuse['owner'])\n",
    "        owner_url = '#'\n",
    "        if owner:\n",
    "            owner_url = reuse['organization']['page'] if reuse['organization'] else reuse['owner']['page']\n",
    "        html = make_link(reuse['title'], reuse['page'])\n",
    "        html += ' par '\n",
    "        html += make_link(owner, owner_url)\n",
    "        show_html(html)"
   ]
  },
  {
   "cell_type": "code",
   "execution_count": null,
   "metadata": {},
   "outputs": [],
   "source": [
    "def show_discussions():\n",
    "    discussions = get_last_discussions()\n",
    "\n",
    "    show_html('<h3>%s commentaires créées</h3>' % len(discussions))\n",
    "\n",
    "    for d in discussions:\n",
    "        _id, subject, title, comment = d\n",
    "        url = '#'\n",
    "        if subject['class'] == 'Dataset':\n",
    "            url = 'https://%s/fr/datasets/%s' % (DOMAIN, subject['id'])\n",
    "        elif subject['class'] == 'Reuse':\n",
    "            url = 'https://%s/fr/reuses/%s' % (DOMAIN, subject['id'])\n",
    "        user = make_link(fullname(comment['posted_by']), comment['posted_by']['page'])\n",
    "        show_html('%s sur %s par %s' % (title, make_link(subject['class'], url), user))\n",
    "        show_html('<pre>%s</pre>' % comment['content'])\n",
    "        show_html('<hr/>')"
   ]
  },
  {
   "cell_type": "code",
   "execution_count": null,
   "metadata": {},
   "outputs": [],
   "source": []
  }
 ],
 "metadata": {
  "kernelspec": {
   "display_name": "Python 3",
   "language": "python",
   "name": "python3"
  },
  "language_info": {
   "codemirror_mode": {
    "name": "ipython",
    "version": 3
   },
   "file_extension": ".py",
   "mimetype": "text/x-python",
   "name": "python",
   "nbconvert_exporter": "python",
   "pygments_lexer": "ipython3",
   "version": "3.8.6"
  }
 },
 "nbformat": 4,
 "nbformat_minor": 2
}
